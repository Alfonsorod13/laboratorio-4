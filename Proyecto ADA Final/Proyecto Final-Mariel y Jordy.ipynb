{
 "cells": [
  {
   "cell_type": "code",
   "execution_count": null,
   "id": "e635c073",
   "metadata": {},
   "outputs": [],
   "source": [
    "#!/usr/bin/env python\n",
    "# coding: utf-8\n",
    "\n",
    "# ### -- Grafo de rutas --\n"
   ]
  },
  {
   "cell_type": "code",
   "execution_count": null,
   "id": "32320abc",
   "metadata": {},
   "outputs": [],
   "source": [
    "import networkx as nt\n",
    "import matplotlib.pyplot as plt #solo es para dibujar el grafo\n",
    "import pandas as pd\n",
    "from geopy.geocoders import Nominatim\n",
    "from geopy.distance import geodesic\n",
    "get_ipython().run_line_magic('matplotlib', 'inline')\n",
    "\n"
   ]
  },
  {
   "cell_type": "code",
   "execution_count": null,
   "id": "8e5b865d",
   "metadata": {},
   "outputs": [],
   "source": [
    "coordenadas = pd.read_excel(\"coordenadas.xlsx\")\n",
    "conx = pd.read_excel(\"coordenadas.xlsx\", sheet_name=\"AristasSM\")\n",
    "R = nt.DiGraph()\n",
    "print(coordenadas)#solo para verificar el contenido\n"
   ]
  },
  {
   "cell_type": "code",
   "execution_count": 16,
   "id": "b06646d4",
   "metadata": {
    "scrolled": true
   },
   "outputs": [
    {
     "name": "stdout",
     "output_type": "stream",
     "text": [
      "                    partida                  llegada                   km\n",
      "0                       UTP                    UTP-R  0.29420689354651175\n",
      "1                     UTP-R                  Puente1   0.6354670524097965\n",
      "2                   Puente1   ESTACION San Miguelito   2.3840005184805557\n",
      "3                   Puente1             El Ingenio-I   1.9352728469190477\n",
      "4              El Ingenio-I   ESTACION San Miguelito   3.1034376327052557\n",
      "5                       UTP                    UTP-I   0.2563194045031154\n",
      "6                     UTP-I                    Punto  0.42891030439189415\n",
      "7                     Punto           EL Dorado Mall    0.948828599113586\n",
      "8                       UTP    Edificio de Postgrado   0.5433730099637518\n",
      "9     Edificio de Postgrado  Policlinica de Bethania   0.7334189040178721\n",
      "10  Policlinica de Bethania      C.Francisco Miranda   0.9180733533656981\n",
      "11      C.Francisco Miranda                   C.74 O   0.5799340163946642\n",
      "12                   C.74 O                   SIGCSA  0.30091006501181666\n",
      "13                   SIGCSA           EL Dorado Mall   0.2421457640581555\n"
     ]
    }
   ],
   "source": [
    "# #### obtener distancias\n",
    "#Distancias de la ruta hacia ESTACION San Miguelito\n",
    "distancia0 = str(geodesic(coordenadas.iloc[0,1], coordenadas.iloc[1,1]).km)\n",
    "distancia1 = str(geodesic(coordenadas.iloc[1,1], coordenadas.iloc[2,1]).km)\n",
    "distancia2 = str(geodesic(coordenadas.iloc[2,1], coordenadas.iloc[4,1]).km)\n",
    "distancia3 = str(geodesic(coordenadas.iloc[2,1], coordenadas.iloc[3,1]).km)\n",
    "distancia4 = str(geodesic(coordenadas.iloc[3,1], coordenadas.iloc[4,1]).km)\n",
    "#Distancias de la ruta hacia El Dorado Mall\n",
    "distancia5 = str(geodesic(coordenadas.iloc[0,1], coordenadas.iloc[6,1]).km)\n",
    "distancia6 = str(geodesic(coordenadas.iloc[6,1], coordenadas.iloc[12,1]).km)\n",
    "distancia7 = str(geodesic(coordenadas.iloc[12,1], coordenadas.iloc[7,1]).km)\n",
    "distancia8 = str(geodesic(coordenadas.iloc[0,1], coordenadas.iloc[8,1]).km)\n",
    "distancia9 = str(geodesic(coordenadas.iloc[8,1], coordenadas.iloc[9,1]).km)\n",
    "distancia10 = str(geodesic(coordenadas.iloc[9,1], coordenadas.iloc[10,1]).km)\n",
    "distancia11 = str(geodesic(coordenadas.iloc[10,1], coordenadas.iloc[11,1]).km)\n",
    "distancia12 = str(geodesic(coordenadas.iloc[11,1], coordenadas.iloc[13,1]).km)\n",
    "distancia13 = str(geodesic(coordenadas.iloc[13,1], coordenadas.iloc[7,1]).km)\n",
    "#Distancias de la ruta hacia la Sede de Tocumen\n",
    "#Distancias de la ruta hacia Altaplaza\n",
    "#Distancias de la ruta hacia\n",
    "#Distancias de la ruta hacia\n",
    "#Distancias de la ruta hacia\n",
    "#Distancias de la ruta hacia\n",
    "#Distancias de la ruta hacia\n",
    "#Distancias de la ruta hacia\n",
    "\n",
    "conx= conx.assign(km = [distancia0, distancia1, distancia2, distancia3,distancia4,distancia5, distancia6,distancia7,distancia8,distancia9,distancia10,distancia11,distancia12,distancia13])\n",
    "print(conx)\n"
   ]
  },
  {
   "cell_type": "code",
   "execution_count": null,
   "id": "3d093b5b",
   "metadata": {},
   "outputs": [],
   "source": [
    "#crear grafo con segun los datos\n",
    "Rutas = nt.from_pandas_edgelist(conx, source=\"partida\", target = \"llegada\", edge_attr = \"km\")\n",
    "Rutas.nodes()\n",
    "\n",
    "\n"
   ]
  },
  {
   "cell_type": "code",
   "execution_count": 1,
   "id": "1f35b10c",
   "metadata": {},
   "outputs": [
    {
     "name": "stdout",
     "output_type": "stream",
     "text": [
      "\t 1: Estacion San Miguelito\n",
      "\t 2: El Dorado Mall \n",
      "\t 3: UTP- Sede de Tocumen \n",
      "\t 4: Dorado Mall \n",
      " Digite el destino: 2\n",
      "----Elegiste como llegada El Dorado Mall ----\n",
      "  La ruta mas corta es: \n"
     ]
    },
    {
     "ename": "NameError",
     "evalue": "name 'nt' is not defined",
     "output_type": "error",
     "traceback": [
      "\u001b[1;31m---------------------------------------------------------------------------\u001b[0m",
      "\u001b[1;31mNameError\u001b[0m                                 Traceback (most recent call last)",
      "Cell \u001b[1;32mIn[1], line 11\u001b[0m\n\u001b[0;32m      9\u001b[0m \u001b[38;5;28;01mcase\u001b[39;00m \u001b[38;5;241m2\u001b[39m: \n\u001b[0;32m     10\u001b[0m     \u001b[38;5;28mprint\u001b[39m(\u001b[38;5;124m\"\u001b[39m\u001b[38;5;124m----Elegiste como llegada El Dorado Mall ----\u001b[39m\u001b[38;5;130;01m\\n\u001b[39;00m\u001b[38;5;124m  La ruta mas corta es: \u001b[39m\u001b[38;5;124m\"\u001b[39m)\n\u001b[1;32m---> 11\u001b[0m     recorrido \u001b[38;5;241m=\u001b[39m \u001b[43mnt\u001b[49m\u001b[38;5;241m.\u001b[39mdijkstra_path(Rutas, source\u001b[38;5;241m=\u001b[39m\u001b[38;5;124m\"\u001b[39m\u001b[38;5;124mUTP\u001b[39m\u001b[38;5;124m\"\u001b[39m, target\u001b[38;5;241m=\u001b[39m\u001b[38;5;124m\"\u001b[39m\u001b[38;5;124mEL Dorado Mall\u001b[39m\u001b[38;5;124m\"\u001b[39m, weight \u001b[38;5;241m=\u001b[39m \u001b[38;5;28;01mTrue\u001b[39;00m) \u001b[38;5;66;03m#esto es lo que debe salir en el mapa\u001b[39;00m\n\u001b[0;32m     12\u001b[0m     \u001b[38;5;28mprint\u001b[39m(recorrido)\n\u001b[0;32m     13\u001b[0m \u001b[38;5;28;01mcase\u001b[39;00m \u001b[38;5;241m3\u001b[39m: \u001b[38;5;28mprint\u001b[39m(\u001b[38;5;124m\"\u001b[39m\u001b[38;5;124m----Elegiste como llegada UTP Sede de Tocumen----\u001b[39m\u001b[38;5;130;01m\\n\u001b[39;00m\u001b[38;5;124m  La ruta mas corta es: \u001b[39m\u001b[38;5;124m\"\u001b[39m)\n",
      "\u001b[1;31mNameError\u001b[0m: name 'nt' is not defined"
     ]
    }
   ],
   "source": [
    "# #### mostrar opciones\n",
    "#recorrido\n",
    "opcion=int(input(\"\\t 1: Estacion San Miguelito\\n\\t 2: El Dorado Mall \\n\\t 3: UTP- Sede de Tocumen \\n\\t 4: Dorado Mall \\n Digite el destino: \"))\n",
    "match opcion:\n",
    "    case 1:\n",
    "        print(\"----Elegiste como llegada la Estación San Miguelito----\\n  La ruta mas corta es: \")\n",
    "        recorrido = nt.dijkstra_path(Rutas, source=\"UTP\", target=\"ESTACION San Miguelito\", weight = True) #esto es lo que debe salir en el mapa\n",
    "        print(recorrido)\n",
    "    case 2: \n",
    "        print(\"----Elegiste como llegada El Dorado Mall ----\\n  La ruta mas corta es: \")\n",
    "        recorrido = nt.dijkstra_path(Rutas, source=\"UTP\", target=\"EL Dorado Mall\", weight = True) #esto es lo que debe salir en el mapa\n",
    "        print(recorrido)\n",
    "    case 3: print(\"----Elegiste como llegada UTP Sede de Tocumen----\\n  La ruta mas corta es: \")\n",
    "    case 4: print(\"----Elegiste como llegada Altaplaza Mall ----\\n  La ruta mas corta es: \")\n",
    "    case 5: print(\"----Elegiste como llegada  ----\\n  La ruta mas corta es: \")\n",
    "    case 6: print(\"----Elegiste como llegada  ----\\n  La ruta mas corta es: \")\n",
    "    case 7: print(\"----Elegiste como llegada  ----\\n  La ruta mas corta es: \")\n",
    "    case 8: print(\"----Elegiste como llegada  ----\\n  La ruta mas corta es: \")\n",
    "    case 9: print(\"----Elegiste como llegada----\\n  La ruta mas corta es: \")   \n",
    "    case _: print(\"Lastimosamente no contamos con esta opcion\")\n"
   ]
  },
  {
   "cell_type": "code",
   "execution_count": null,
   "id": "585691e8",
   "metadata": {},
   "outputs": [],
   "source": []
  }
 ],
 "metadata": {
  "kernelspec": {
   "display_name": "Python 3 (ipykernel)",
   "language": "python",
   "name": "python3"
  },
  "language_info": {
   "codemirror_mode": {
    "name": "ipython",
    "version": 3
   },
   "file_extension": ".py",
   "mimetype": "text/x-python",
   "name": "python",
   "nbconvert_exporter": "python",
   "pygments_lexer": "ipython3",
   "version": "3.11.0"
  }
 },
 "nbformat": 4,
 "nbformat_minor": 5
}
