{
 "cells": [
  {
   "cell_type": "code",
   "execution_count": 1,
   "id": "d5ccc4d6",
   "metadata": {},
   "outputs": [
    {
     "name": "stdout",
     "output_type": "stream",
     "text": [
      "                        Nodo                            Coordenadas\n",
      "0                        UTP  9.022261542758255, -79.53257480417845\n",
      "1                      UTP-R  9.019711101761404, -79.53181457702479\n",
      "2                  Semaforo1   9.022410949048204, -79.5267128914367\n",
      "3               El Ingenio-I  9.005954940980454, -79.52073063205128\n",
      "4     ESTACION San Miguelito   9.03018003353083, -79.50648770273543\n",
      "5      San Miguel Arcangel-R  9.031259774590266, -79.50942552580007\n",
      "6                      UTP-I  9.020103691893004, -79.53172452836841\n",
      "7             EL Dorado Mall  9.009411551422904, -79.53597679192606\n",
      "8      Edificio de Postgrado                   9.026053, -79.529432\n",
      "9    Policlinica de Bethania  9.021263651134431, -79.52481849794522\n",
      "10       C.Francisco Miranda                   9.017004, -79.531985\n",
      "11                    C.74 O  9.011761005398347, -79.53205476975248\n",
      "12                     Punto                   9.017930, -79.534955\n",
      "13                    SIGCSA                   9.011221, -79.534737\n",
      "14        Torres de Milan -R  9.025754855779548, -79.52861331718435\n",
      "15                EsquinaALT                   9.029229, -79.531505\n",
      "16         Los Brasileros DT                   9.030483, -79.530396\n",
      "17        Rotonda Centennial                   9.032849, -79.533217\n",
      "18               Altos de PA                   9.031755, -79.533987\n",
      "19                   GiroALT                   9.029201, -79.531674\n",
      "20                  REntrada                   9.031098, -79.534678\n",
      "21            Altaplaza Mall  9.030255214134929, -79.53391124844335\n",
      "22             Gran Estacion   9.02824640370541, -79.50705480129169\n",
      "23      Metro Corredor Sur-R                   9.068616, -79.406786\n",
      "24       UTP Sede de Tocumen   9.06774261795484, -79.40545806231057\n",
      "25     Entrada al Corredor N                   9.032974, -79.535370\n",
      "26  Salida Av. Manuel Zarate                   9.082046, -79.462384\n",
      "27           Av.Domingo Diaz                   9.048785, -79.459893\n",
      "                    partida                  llegada                   km\n",
      "0                       UTP                    UTP-R  0.29420689354651175\n",
      "1                     UTP-R                Semaforo1   0.6354670524097965\n",
      "2                   Puente1   ESTACION San Miguelito   2.3840005184805557\n",
      "3                   Puente1             El Ingenio-I   1.9352728469190477\n",
      "4              El Ingenio-I   ESTACION San Miguelito   3.1034376327052557\n",
      "5                       UTP                    UTP-I   0.2563194045031154\n",
      "6                     UTP-I                    Punto  0.42891030439189415\n",
      "7                     Punto           EL Dorado Mall    0.948828599113586\n",
      "8                       UTP    Edificio de Postgrado   0.5433730099637518\n",
      "9     Edificio de Postgrado  Policlinica de Bethania   0.7334189040178721\n",
      "10  Policlinica de Bethania      C.Francisco Miranda   0.9180733533656981\n",
      "11      C.Francisco Miranda                   C.74 O   0.5799340163946642\n",
      "12                   C.74 O                   SIGCSA  0.30091006501181666\n",
      "13                   SIGCSA           EL Dorado Mall   0.2421457640581555\n",
      "\t 1: Estacion San Miguelito\n",
      "\t 2: El Dorado Mall \n",
      "\t 3: UTP- Sede de Tocumen \n",
      "\t 4: Dorado Mall \n",
      " Digite el destino: 2\n",
      "----Elegiste como llegada El Dorado Mall ----\n",
      "  La ruta mas corta es: \n",
      "['UTP', 'UTP-I', 'Punto', 'EL Dorado Mall']\n"
     ]
    }
   ],
   "source": [
    "#!/usr/bin/env python\n",
    "# coding: utf-8\n",
    "\n",
    "# ### -- Grafo de rutas --\n",
    "\n"
   ]
  },
  {
   "cell_type": "code",
   "execution_count": null,
   "id": "32320abc",
   "metadata": {},
   "outputs": [],
   "source": [
    "import networkx as nt\n",
    "import matplotlib.pyplot as plt #solo es para dibujar el grafo\n",
    "import pandas as pd\n",
    "from geopy.geocoders import Nominatim\n",
    "from geopy.distance import geodesic\n",
    "get_ipython().run_line_magic('matplotlib', 'inline')\n",
    "\n"
   ]
  },
  {
   "cell_type": "code",
   "execution_count": 8,
   "id": "62acd4b0",
   "metadata": {},
   "outputs": [
    {
     "name": "stdout",
     "output_type": "stream",
     "text": [
      "                        Nodo                            Coordenadas\n",
      "0                        UTP  9.022261542758255, -79.53257480417845\n",
      "1                      UTP-R  9.019711101761404, -79.53181457702479\n",
      "2                  Semaforo1   9.022410949048204, -79.5267128914367\n",
      "3               El Ingenio-I  9.005954940980454, -79.52073063205128\n",
      "4     ESTACION San Miguelito   9.03018003353083, -79.50648770273543\n",
      "5      San Miguel Arcangel-R  9.031259774590266, -79.50942552580007\n",
      "6                      UTP-I  9.020103691893004, -79.53172452836841\n",
      "7             EL Dorado Mall  9.009411551422904, -79.53597679192606\n",
      "8      Edificio de Postgrado                   9.026053, -79.529432\n",
      "9    Policlinica de Bethania  9.021263651134431, -79.52481849794522\n",
      "10       C.Francisco Miranda                   9.017004, -79.531985\n",
      "11                    C.74 O  9.011761005398347, -79.53205476975248\n",
      "12                     Punto                   9.017930, -79.534955\n",
      "13                    SIGCSA                   9.011221, -79.534737\n",
      "14        Torres de Milan -R  9.025754855779548, -79.52861331718435\n",
      "15                EsquinaALT                   9.029229, -79.531505\n",
      "16         Los Brasileros DT                   9.030483, -79.530396\n",
      "17        Rotonda Centennial                   9.032849, -79.533217\n",
      "18               Altos de PA                   9.031755, -79.533987\n",
      "19                   GiroALT                   9.029201, -79.531674\n",
      "20                  REntrada                   9.031098, -79.534678\n",
      "21            Altaplaza Mall  9.030255214134929, -79.53391124844335\n",
      "22             Gran Estacion   9.02824640370541, -79.50705480129169\n",
      "23      Metro Corredor Sur-R                   9.068616, -79.406786\n",
      "24       UTP Sede de Tocumen   9.06774261795484, -79.40545806231057\n",
      "25     Entrada al Corredor N                   9.032974, -79.535370\n",
      "26  Salida Av. Manuel Zarate                   9.082046, -79.462384\n",
      "27           Av.Domingo Diaz                   9.048785, -79.459893\n"
     ]
    }
   ],
   "source": [
    "coordenadas = pd.read_excel(\"coordenadas.xlsx\")\n",
    "conx = pd.read_excel(\"coordenadas.xlsx\", sheet_name=\"AristasSM\")\n",
    "R = nt.DiGraph()\n",
    "print(coordenadas)#solo para verificar el contenido\n",
    "\n",
    "\n"
   ]
  },
  {
   "cell_type": "code",
   "execution_count": null,
   "id": "b06646d4",
   "metadata": {},
   "outputs": [],
   "source": [
    "# #### obtener distancias\n",
    "#Distancias de la ruta hacia ESTACION San Miguelito\n",
    "distancia0 = str(geodesic(coordenadas.iloc[0,1], coordenadas.iloc[1,1]).km)\n",
    "distancia1 = str(geodesic(coordenadas.iloc[1,1], coordenadas.iloc[2,1]).km)\n",
    "distancia2 = str(geodesic(coordenadas.iloc[2,1], coordenadas.iloc[4,1]).km)\n",
    "distancia3 = str(geodesic(coordenadas.iloc[2,1], coordenadas.iloc[3,1]).km)\n",
    "distancia4 = str(geodesic(coordenadas.iloc[3,1], coordenadas.iloc[4,1]).km)\n",
    "#Distancias de la ruta hacia El Dorado Mall\n",
    "distancia5 = str(geodesic(coordenadas.iloc[0,1], coordenadas.iloc[6,1]).km)\n",
    "distancia6 = str(geodesic(coordenadas.iloc[6,1], coordenadas.iloc[12,1]).km)\n",
    "distancia7 = str(geodesic(coordenadas.iloc[12,1], coordenadas.iloc[7,1]).km)\n",
    "distancia8 = str(geodesic(coordenadas.iloc[0,1], coordenadas.iloc[8,1]).km)\n",
    "distancia9 = str(geodesic(coordenadas.iloc[8,1], coordenadas.iloc[9,1]).km)\n",
    "distancia10 = str(geodesic(coordenadas.iloc[9,1], coordenadas.iloc[10,1]).km)\n",
    "distancia11 = str(geodesic(coordenadas.iloc[10,1], coordenadas.iloc[11,1]).km)\n",
    "distancia12 = str(geodesic(coordenadas.iloc[11,1], coordenadas.iloc[13,1]).km)\n",
    "distancia13 = str(geodesic(coordenadas.iloc[13,1], coordenadas.iloc[7,1]).km)\n",
    "#Distancias de la ruta hacia la Sede de Tocumen\n",
    "#Distancias de la ruta hacia Altaplaza\n",
    "#Distancias de la ruta hacia\n",
    "#Distancias de la ruta hacia\n",
    "#Distancias de la ruta hacia\n",
    "#Distancias de la ruta hacia\n",
    "#Distancias de la ruta hacia\n",
    "#Distancias de la ruta hacia\n",
    "\n",
    "conx= conx.assign(km = [distancia0, distancia1, distancia2, distancia3,distancia4,distancia5, distancia6,distancia7,distancia8,distancia9,distancia10,distancia11,distancia12,distancia13])\n",
    "print(conx)\n"
   ]
  },
  {
   "cell_type": "code",
   "execution_count": null,
   "id": "3d093b5b",
   "metadata": {},
   "outputs": [],
   "source": [
    "#crear grafo con segun los datos\n",
    "Rutas = nt.from_pandas_edgelist(conx, source=\"partida\", target = \"llegada\", edge_attr = \"km\")\n",
    "Rutas.nodes()\n",
    "\n",
    "\n"
   ]
  },
  {
   "cell_type": "code",
   "execution_count": 9,
   "id": "412e7347",
   "metadata": {},
   "outputs": [
    {
     "name": "stdout",
     "output_type": "stream",
     "text": [
      "\t 1: Estacion San Miguelito\n",
      "\t 2: El Dorado Mall \n",
      "\t 3: UTP- Sede de Tocumen \n",
      "\t 4: Dorado Mall \n",
      " Digite el destino: 2\n",
      "----Elegiste como llegada El Dorado Mall ----\n",
      "  La ruta mas corta es: \n",
      "['UTP', 'UTP-I', 'Punto', 'EL Dorado Mall']\n"
     ]
    }
   ],
   "source": [
    "# #### mostrar opciones\n",
    "#recorrido\n",
    "opcion=int(input(\"\\t 1: Estacion San Miguelito\\n\\t 2: El Dorado Mall \\n\\t 3: UTP- Sede de Tocumen \\n\\t 4: Dorado Mall \\n Digite el destino: \"))\n",
    "match opcion:\n",
    "    case 1:\n",
    "        print(\"----Elegiste como llegada la Estación San Miguelito----\\n  La ruta mas corta es: \")\n",
    "        recorrido = nt.dijkstra_path(Rutas, source=\"UTP\", target=\"ESTACION San Miguelito\", weight = True) #esto es lo que debe salir en el mapa\n",
    "        print(recorrido)\n",
    "    case 2: \n",
    "        print(\"----Elegiste como llegada El Dorado Mall ----\\n  La ruta mas corta es: \")\n",
    "        recorrido = nt.dijkstra_path(Rutas, source=\"UTP\", target=\"EL Dorado Mall\", weight = True) #esto es lo que debe salir en el mapa\n",
    "        print(recorrido)\n",
    "    case 3: print(\"----Elegiste como llegada UTP Sede de Tocumen----\\n  La ruta mas corta es: \")\n",
    "    case 4: print(\"----Elegiste como llegada Altaplaza Mall ----\\n  La ruta mas corta es: \")\n",
    "    case 5: print(\"----Elegiste como llegada  ----\\n  La ruta mas corta es: \")\n",
    "    case 6: print(\"----Elegiste como llegada  ----\\n  La ruta mas corta es: \")\n",
    "    case 7: print(\"----Elegiste como llegada  ----\\n  La ruta mas corta es: \")\n",
    "    case 8: print(\"----Elegiste como llegada  ----\\n  La ruta mas corta es: \")\n",
    "    case 9: print(\"----Elegiste como llegada----\\n  La ruta mas corta es: \")   \n",
    "    case _: print(\"Lastimosamente no contamos con esta opcion\")\n",
    "\n"
   ]
  },
  {
   "cell_type": "code",
   "execution_count": null,
   "id": "28d7d535",
   "metadata": {},
   "outputs": [],
   "source": []
  }
 ],
 "metadata": {
  "kernelspec": {
   "display_name": "Python 3 (ipykernel)",
   "language": "python",
   "name": "python3"
  },
  "language_info": {
   "codemirror_mode": {
    "name": "ipython",
    "version": 3
   },
   "file_extension": ".py",
   "mimetype": "text/x-python",
   "name": "python",
   "nbconvert_exporter": "python",
   "pygments_lexer": "ipython3",
   "version": "3.11.0"
  }
 },
 "nbformat": 4,
 "nbformat_minor": 5
}
